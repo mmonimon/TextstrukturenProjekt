{
 "cells": [
  {
   "cell_type": "markdown",
   "metadata": {},
   "source": [
    "# V5: Konnektoren erkennen.\n",
    "Dieses Programm liest das deutsche Konnektorenlexikon DimLex als JSON ein (heruntergeladen von https://github.com/discourse-lab/Connective-Lex.info/blob/master/Web%20app/xml/dimlex.json, gefunden auf connective-lex.info) ein und merkt sich den Konnektor-string als Regular Expression, sowie die Information, ob das Wort auch eine Nicht-Konnektor Lesart hat. \n",
    "\n",
    "Dann kann ein Text als txt-Datei eingelesen werden, welcher in eine html-Datei transformiert wird, die denselben Text enthält, in dem aber alle Wörter, die mit einem Konnektor-string übereinstimmen, farblich markiert sind: \n",
    "- Grün = dieses Wort ist in jedem Fall ein Konnektor.\n",
    "- Rot = dieses Wort kann ein Konnektor sein, muss aber nicht. \n",
    "\n"
   ]
  },
  {
   "cell_type": "markdown",
   "metadata": {},
   "source": [
    "### 1. Import von benötigten Libraries\n",
    "Die Implementierung basiert vorwiegend auf Regular Expressions, daher wird die Bibliothek \"re\" benötigt. Darüber hinaus brauchen wir \"json\" um die konvertierte DimLex JSON-Datei dimlex.json einfach parsen zu können."
   ]
  },
  {
   "cell_type": "code",
   "execution_count": 501,
   "metadata": {},
   "outputs": [],
   "source": [
    "import json, re"
   ]
  },
  {
   "cell_type": "markdown",
   "metadata": {},
   "source": [
    "### 2. Einlesen der DimLex JSON-Datei\n",
    "Da JSON in Python einfacher als XML einzulesen ist und ich persönlich mehr Erfahrung damit habe, habe ich mich dafür entschieden, die konvertierte dimlex.json aus dem Git Repository für connective-lex.info herunterzuladen und diese einzulesen."
   ]
  },
  {
   "cell_type": "code",
   "execution_count": 390,
   "metadata": {},
   "outputs": [],
   "source": [
    "with open('data/dimlex.json') as j:\n",
    "    dimlex_raw = json.load(j)"
   ]
  },
  {
   "cell_type": "markdown",
   "metadata": {},
   "source": [
    "#### 2.1 Daten in geeigneter Datenstruktur speichern\n",
    "Es wird ein Dictionary mit den eingelesenen, benötigten Daten erstellt. Da ich in diesem Programm mit Regular expressions arbeite, habe ich die eingelesenen Konnektoren in Regex umgewandelt (z.B. `'(^| )([zZ]war)( |\\\\.|,|\\\\?|!|$)'`) - diese sind die Keys des Dictionaries.\n",
    "Die Values geben Informationen über die Eigenschaft \"auf jeden Fall ein Konnektor sein oder nicht\" und wurde aus dem DimLex adaptiert (z.B. `{'t': 0}`)."
   ]
  },
  {
   "cell_type": "code",
   "execution_count": 503,
   "metadata": {},
   "outputs": [],
   "source": [
    "## Creates dictionary that saves necessary information about connector\n",
    "# Konnektor dict initialisieren\n",
    "conn_dict = {}\n",
    "# durch alle Einträge im DimLex iterieren\n",
    "for entry in dimlex_raw['entry']:\n",
    "    # Regular expression für Satzanfang (Großbuchstabe) und Satzmitte (Kleinbuchstabe) erstellen \n",
    "    new_conn = '[' + entry['word'][0].lower()+entry['word'][0].upper() + ']' + entry['word'][1:]\n",
    "    # Drei Punkte in der Mitte eines Konnektorstrings werden mit einer Placeholder Regex ersetzt\n",
    "    # Diese sollte alles matchen, was in der Mitte steht außer Satzzeichen\n",
    "    if '...' in new_conn:\n",
    "        new_conn = re.sub('\\s?\\.{3}\\s?', ' [^.?!]+ ', new_conn)\n",
    "    # Leerzeichen um das Wort/die Wortgruppe entfernen \n",
    "    new_conn = new_conn.strip()\n",
    "    # In den Orths nachschauen, ob es noch andere Schreibweisen gibt, die wir noch nicht in der Regex haben\n",
    "    for orth in entry['orths']['orth']:\n",
    "        # Fügt Einzelteile einer Variante zusammen\n",
    "        orth_variant = ' '.join(part['t'] for part in orth['part'])\n",
    "        # Überprüfen, ob die Variante bereits von der Regex abgedeckt wird\n",
    "        if not re.search(new_conn, orth_variant):\n",
    "            # Wenn nicht, machen wir das gleiche wie oben um das Wort am Satzanfang/-mitte abzufangen\n",
    "            orth_variant = '[' + orth_variant[0].lower()+orth_variant[0].upper() + ']' + orth_variant[1:]\n",
    "            # Und dann wird es mit einem \"oder\" an die Regex angehangen\n",
    "            new_conn += '|' + orth_variant\n",
    "    # Start- und Endkontext der Regex definieren und bisherige Konnektorregex einfügen\n",
    "    conn_regex = '(^| )(' + new_conn + ')( |\\.|,|\\?|!|$)'\n",
    "    # Wir überprüfen, ob die Regex schon im Dict ist (unwahrscheinlich, aber sicher ist sicher)\n",
    "    if conn_regex not in conn_dict:\n",
    "        # Erstelle Eintrag mit Ambiguitätenwert für \"non_conn\"\n",
    "        conn_dict[conn_regex] = {'non_conn': entry['ambiguity']['non_conn']}\n",
    "        # Erstelle leeres Beispiel, da nicht alle Konnektoren ein Beispiel für Nicht-Konnektor enthalten\n",
    "        conn_dict[conn_regex]['example'] = ''\n",
    "        # Falls es aber einen Beispielsatz gibt, füge ihn an dieser Stelle ein\n",
    "        if 'example' in entry['non_conn_reading']:\n",
    "            for sub_entry in entry['non_conn_reading']['example']:\n",
    "                # Inklusive Tag, falls es eines gibt\n",
    "                if 't' in sub_entry and 'type' in sub_entry:\n",
    "                    conn_dict[conn_regex]['example'] += '{}: {}\\n'.format(sub_entry.get('type'),sub_entry['t'])\n",
    "                # Wenn es keins gibt, nur den Beispielsatz hinzufügen\n",
    "                elif 't' in sub_entry:\n",
    "                    conn_dict[conn_regex]['example'] += '{}\\n'.format(sub_entry['t'])\n",
    "    # gibt Zeile und Regex aus, falls schon im Dict vorhanden\n",
    "    else: \n",
    "        print(dimlex_raw['entry'].index(entry), conn_regex, entry['ambiguity']['non_conn'], 'already in dict')"
   ]
  },
  {
   "cell_type": "markdown",
   "metadata": {},
   "source": [
    "### 3. Text einlesen und HTML String erstellen\n",
    "Der eingelesene Text (txt-Datei mit einer Überschrift in der ersten Zeile) wird Zeile für Zeile eingelesen und in einen HTML-String umgewandelt. Diese enthält derzeit die eingefärbten Konnektoren und einen Hovertext mit den \"non_conn\" Informationen aus dem DimLex Lexikon.\n",
    "\n",
    "Note: Ich wollte urpsrünglich noch Beispielsätze mit in den Hovertext einbauen, diese machten aber den Hovertext zu lang und nicht gut überschaubar. Für ein anderes Projekt könnte man aber auch andere Informationen in den Hovertext einbauen, um wie auf der connective-lex.info page schnell zu anderen Infos wie semantische Rollen oder syntaktische Stellung zu erhalten."
   ]
  },
  {
   "cell_type": "code",
   "execution_count": 527,
   "metadata": {},
   "outputs": [],
   "source": [
    "## Style-elemente (CSS) definieren\n",
    "# tooltip nach: https://www.w3schools.com/css/css_tooltip.asp\n",
    "CSS = \"\"\"<style>\\n\n",
    "* {\n",
    "  font-family: monospace;\n",
    "}\n",
    "\n",
    ".red {\n",
    "  color: red;\n",
    "}\n",
    "\n",
    ".green {\n",
    "  color: green;\n",
    "}\n",
    "\n",
    ".container {\n",
    "  margin: 50px;\n",
    "}\n",
    "\n",
    ".tooltip {\n",
    "  position: relative;\n",
    "  display: inline-block;\n",
    "  border-bottom: 1px dotted black;\n",
    "}\n",
    "\n",
    ".tooltip .tooltiptext {\n",
    "  visibility: hidden;\n",
    "  width: 120px;\n",
    "  background-color: black;\n",
    "  color: #fff;\n",
    "  text-align: center;\n",
    "  border-radius: 6px;\n",
    "  padding: 5px 0;\n",
    "  bottom: 100%;\n",
    "  left: 50%;\n",
    "  margin-left: -60px; /* Use half of the width (120/2 = 60), to center the tooltip */\n",
    "  /* Position the tooltip */\n",
    "  position: absolute;\n",
    "  z-index: 1;\n",
    "}\n",
    "\n",
    ".tooltip:hover .tooltiptext {\n",
    "  visibility: visible;\n",
    "}\n",
    "\n",
    ".tooltip .tooltiptext::after {\n",
    "  content: \" \";\n",
    "  position: absolute;\n",
    "  top: 100%; /* At the bottom of the tooltip */\n",
    "  left: 50%;\n",
    "  margin-left: -5px;\n",
    "  border-width: 5px;\n",
    "  border-style: solid;\n",
    "  border-color: black transparent transparent transparent;\n",
    "}\n",
    "\n",
    "</style>\"\"\""
   ]
  },
  {
   "cell_type": "code",
   "execution_count": 529,
   "metadata": {},
   "outputs": [],
   "source": [
    "# Beginn des HTML-Strings, der später in die HTML-Datei geschrieben werden soll\n",
    "html_string = \"\"\"\n",
    "<!DOCTYPE html>\n",
    "<html>\n",
    "<head>\n",
    "<title>V5: Konnektoren erkennen</title>\n",
    "{}\n",
    "</head>\n",
    "<body>\n",
    "<div class=\"container\">\n",
    "<h1>\n",
    "\"\"\".format(CSS)\n",
    "# Wir starten mit einen geöffneten Header (siehe vorherige Zeile) und setzen einen Boolean, weil dieser noch nicht geschlossen ist\n",
    "header_closed = False\n",
    "# Öffne die eingelesene Textdatei\n",
    "with open(\"data/kuechentipps.txt\") as txt: \n",
    "    # Lese Zeile für Zeile ein und bearbeite diese\n",
    "    for line in txt:\n",
    "        # Wenn die erste Leerzeile (ohne Umbruch/Leerzeichen) kommt (deshalb muss Überschrift in der ersten Zeile stehen)\n",
    "        if line.strip() == '': \n",
    "            # ... und der Heade noch nicht geschlossen ist\n",
    "            if header_closed == False:\n",
    "                # schließe den header und beginne neuen Absatz\n",
    "                html_string += \"</h1>\\n<p>\"\n",
    "                # setze Bool auf True\n",
    "                header_closed = True\n",
    "            # Wenn wir schon eine Überschrift haben, fang nur einen neuen Absatz an\n",
    "            else:\n",
    "                html_string+=\"</p>\\n<p>\"\n",
    "        \n",
    "        # Jetzt zum eigentlichen Bearbeiten des Textes\n",
    "        html_line = line\n",
    "        # Das Konnektorendict wird nach Keylänge (=Länge des Strings) sortiert, weil längere Konnektorenstrings\n",
    "        # Priorität haben sollen z.B. \"sowohl ... als auch\" hat Priorität über \"als\" oder \"auch\"\n",
    "        # Das ist wichtig, weil sonst nur die kürzeren Strings markiert werden könnten\n",
    "        for conn_reg in sorted(conn_dict, key=len, reverse=True):\n",
    "            # Wir schauen erst einmal, ob die Regex für unsere Zeile relevant ist\n",
    "            if re.search(conn_reg, html_line):\n",
    "                # Hier nehmen wir den Text für den Tooltip heraus (derzeit nur Infos zur Frequenz des Auftretens als Non-Connector)\n",
    "                ttt = conn_dict[conn_reg]['non_conn']\n",
    "                # Tooltiptext in den String einfügen (nur für Konnektor)\n",
    "                html_substring = '\\g<2><span class=\"tooltiptext\">{ttt}</span></span>\\g<3>'.format(ttt=ttt)\n",
    "                # Überprüfe, ob der Konnektor auch ein Nicht-Konnektor sein kann\n",
    "                if conn_dict[conn_reg]['non_conn']['t'] == 0:\n",
    "                    # Wenn nicht --> färbe grün\n",
    "                    html_substring = '\\g<1><span class=\"tooltip green\">' + html_substring\n",
    "                else: \n",
    "                    # wenn ja --> färbe rot\n",
    "                    html_substring = '\\g<1><span class=\"tooltip red\">' + html_substring\n",
    "                # Ersetze alten substring mithilfe der Konnektorregex\n",
    "                html_line = re.sub(conn_reg, r'{}'.format(html_substring), html_line)\n",
    "        # füge alles zum html string hinzu\n",
    "        html_string+=html_line\n",
    "        html_string+=\"\\n\"\n",
    "# schließe html syntax\n",
    "html_string+=\"</div></body>\\n</html>\""
   ]
  },
  {
   "cell_type": "markdown",
   "metadata": {},
   "source": [
    "### 4. HTML-Datei schreiben\n",
    "Die Output-Datei wird nach html/ geschrieben und enthält den zuvor erhaltenen HTML-String."
   ]
  },
  {
   "cell_type": "code",
   "execution_count": 531,
   "metadata": {},
   "outputs": [],
   "source": [
    "with open('html/output.html', mode='w', encoding='utf8') as html:\n",
    "    html.write(html_string)"
   ]
  },
  {
   "cell_type": "markdown",
   "metadata": {},
   "source": [
    "Fertig :)\n",
    "Erwarteter Output:\n",
    "![](material/screenshot.png)"
   ]
  }
 ],
 "metadata": {
  "kernelspec": {
   "display_name": "Python 3",
   "language": "python",
   "name": "python3"
  },
  "language_info": {
   "codemirror_mode": {
    "name": "ipython",
    "version": 3
   },
   "file_extension": ".py",
   "mimetype": "text/x-python",
   "name": "python",
   "nbconvert_exporter": "python",
   "pygments_lexer": "ipython3",
   "version": "3.7.4"
  }
 },
 "nbformat": 4,
 "nbformat_minor": 4
}

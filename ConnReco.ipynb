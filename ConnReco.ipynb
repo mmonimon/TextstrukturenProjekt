{
 "cells": [
  {
   "cell_type": "markdown",
   "metadata": {},
   "source": [
    "### TODO\n",
    "- Hover verbessern (oben wird abgeschnitten, bessere eigenschaften anzeigen)\n",
    "- Page title anpassen"
   ]
  },
  {
   "cell_type": "code",
   "execution_count": 351,
   "metadata": {},
   "outputs": [],
   "source": [
    "import json, re, string"
   ]
  },
  {
   "cell_type": "code",
   "execution_count": 352,
   "metadata": {},
   "outputs": [],
   "source": [
    "with open('data/dimlex.json') as j:\n",
    "    dimlex_raw = json.load(j)"
   ]
  },
  {
   "cell_type": "code",
   "execution_count": 353,
   "metadata": {},
   "outputs": [
    {
     "data": {
      "text/plain": [
       "'!\"#$%&\\'()*+,-./:;<=>?@[\\\\]^_`{|}~'"
      ]
     },
     "execution_count": 353,
     "metadata": {},
     "output_type": "execute_result"
    }
   ],
   "source": [
    "string.punctuation"
   ]
  },
  {
   "cell_type": "code",
   "execution_count": 383,
   "metadata": {},
   "outputs": [],
   "source": [
    "## Creates dictionary that saves necessary information about connector\n",
    "conn_dict = {}\n",
    "for entry in dimlex_raw['entry']:\n",
    "    word_regex = '(^| )(' + entry['word']\n",
    "    if '...' in word_regex:\n",
    "        word_regex = re.sub('\\s?\\.{3}\\s?',' [^.?!]+ ',word_regex)\n",
    "    for orth in entry['orths']['orth']:\n",
    "        orth_variant = ' '.join(part['t'] for part in orth['part'])\n",
    "        word_regex += '|' + orth_variant\n",
    "        # print(orth_variant)\n",
    "    word_regex += ')( |\\.|\\?|!|$)'\n",
    "    if word_regex not in conn_dict:\n",
    "        # print(word_regex)\n",
    "        conn_dict[word_regex] = []\n",
    "        if entry['ambiguity']['non_conn']['t'] != 0:\n",
    "            # print(entry['ambiguity']['non_conn'], entry['non_conn_reading'])\n",
    "            if 'example' in entry['non_conn_reading']:\n",
    "                if entry['non_conn_reading']['example'] != [[]]:\n",
    "                    conn_dict[word_regex] = entry['non_conn_reading']['example']\n",
    "            \n",
    "    else: \n",
    "        print(dimlex_raw['entry'].index(entry), word_regex, entry['ambiguity']['non_conn'], 'already in dict')"
   ]
  },
  {
   "cell_type": "code",
   "execution_count": 386,
   "metadata": {},
   "outputs": [],
   "source": [
    "html_string='<!DOCTYPE html>\\n<html>\\n<head>\\n<title>ConnReco</title>\\n</head>\\n<body><div class=\"container\">\\n<p>\\n<h1>' # start of paragraph\n",
    "header_closed = False\n",
    "with open(\"data/coronaimpfung.txt\") as txt: # https://www.dw.com/de/coronaimpfung-die-m%C3%A4r-von-der-unfruchtbarkeit/a-58733733\n",
    "    for line in txt:\n",
    "        if line.strip() == '': \n",
    "            html_string+=\"</p>\\n<p>\"\n",
    "            if header_closed == False:\n",
    "                html_string += \"</h1>\"\n",
    "                header_closed = True\n",
    "            \n",
    "        html_line = line\n",
    "        for conn_reg in conn_dict:\n",
    "            # print(conn_reg, conn_dict[conn_reg])\n",
    "            ttt_list = []\n",
    "            for entry in conn_dict[conn_reg]:\n",
    "                ttt_list.append('{}: {}'.format(entry.get('type'), entry['t']))\n",
    "            ttt = ' '.join(ttt_list)\n",
    "            rr = '\\g<2><span class=\"tooltiptext\">{ttt}</span></span> '.format(ttt=ttt)\n",
    "            if len(conn_dict[conn_reg]) == 0:\n",
    "                rr = ' <span class=\"tooltip green\">' + rr\n",
    "            else: \n",
    "                rr = ' <span class=\"tooltip red\">' + rr\n",
    "            html_line = re.sub(conn_reg, r'{}'.format(rr), html_line)\n",
    "        html_string+=html_line\n",
    "        html_string+=\"\\n\"\n",
    "html_string+=\"</div></body>\\n</html>\""
   ]
  },
  {
   "cell_type": "code",
   "execution_count": 387,
   "metadata": {},
   "outputs": [],
   "source": [
    "html = open('html/output.html', mode='w', encoding='utf8') \n",
    "html.write(html_string)\n",
    "## add style: https://www.w3schools.com/css/css_tooltip.asp\n",
    "html.write(\"\"\"<style>\\n\n",
    "* {\n",
    "  font-family: monospace;\n",
    "}\n",
    "\n",
    ".red {\n",
    "  color: red;\n",
    "}\n",
    "\n",
    ".green {\n",
    "  color: green;\n",
    "}\n",
    "\n",
    ".container {\n",
    "  margin: 50px;\n",
    "}\n",
    "\n",
    ".tooltip {\n",
    "  position: relative;\n",
    "  display: inline-block;\n",
    "  border-bottom: 1px dotted black;\n",
    "}\n",
    "\n",
    ".tooltip .tooltiptext {\n",
    "  visibility: hidden;\n",
    "  width: 120px;\n",
    "  background-color: black;\n",
    "  color: #fff;\n",
    "  text-align: center;\n",
    "  border-radius: 6px;\n",
    "  padding: 5px 0;\n",
    "  width: 120px;\n",
    "  bottom: 100%;\n",
    "  left: 50%;\n",
    "  margin-left: -60px; /* Use half of the width (120/2 = 60), to center the tooltip */\n",
    "  /* Position the tooltip */\n",
    "  position: absolute;\n",
    "  z-index: 1;\n",
    "}\n",
    "\n",
    ".tooltip:hover .tooltiptext {\n",
    "  visibility: visible;\n",
    "}\n",
    "\n",
    ".tooltip .tooltiptext::after {\n",
    "  content: \" \";\n",
    "  position: absolute;\n",
    "  top: 100%; /* At the bottom of the tooltip */\n",
    "  left: 50%;\n",
    "  margin-left: -5px;\n",
    "  border-width: 5px;\n",
    "  border-style: solid;\n",
    "  border-color: black transparent transparent transparent;\n",
    "}\n",
    "\n",
    "</style>\"\"\")\n",
    "html.close()"
   ]
  },
  {
   "cell_type": "code",
   "execution_count": 278,
   "metadata": {},
   "outputs": [
    {
     "data": {
      "text/plain": [
       "'<!DOCTYPE html>\\n<html>\\n<head>\\n<title>Page Title</title>\\n</head>\\n<body>\\n<p>\\nCoronaimpfung - die Mär von der Unfruchtbarkeit\\n\\n</p>\\n<p>\\n\\nDas Gerücht ist nicht neu, hält sich <font color=\"red\">aber</font> hartnäckig: Die Impfstoffe gegen COVID-19 können unfruchtbar machen – Männer <font color=\"red\">wie</font> Frauen. Ist diese Sorge begründet? <font color=\"red\">Und</font> <font color=\"red\">wie</font> gefährlich ist <font color=\"red\">dann</font> die COVID-Infektion selbst?\\n\\n\"Die Impfung gegen das SARS-2 Virus macht unfruchtbar!\" Solche <font color=\"red\">und</font> ähnliche Aussagen  kursieren <font color=\"red\">seit</font> Monaten in den sozialen Medien. \\n\\n</p>\\n<p>\\n\\n <font color=\"red\">Zunächst</font> hieß es, vor allem Frauen müssten um ihre Fortpflanzungsfähigkeit bangen – eine biologische Erklärung <font color=\"red\">dafür</font> wurde <font color=\"red\">auch</font> mitgeliefert: Die <font color=\"red\">durch</font> den Impfstoff gebildeten Antikörper könnten nicht <font color=\"red\">nur</font> das Coronavirus unschädlich machen, <font color=\"red\">sondern</font> sich <font color=\"red\">auch</font> gegen ein Protein richten, das an der Bildung der Plazenta in der Gebärmutter beteiligt ist.\\n\\nDas soll so funktionieren: Die mRNA-Impfstoffe der Firmen BioNTech/Pfizer <font color=\"red\">und</font> Moderna enthalten den \"Bauplan\", in Form von mRNA,  <font color=\"red\">für</font> das Oberflächenprotein des SARS-2-Virus, das sogenannte Spike-Protein. Der Anleitung <font color=\"red\">durch</font> den Impfstoff folgend produzieren einige Körperzellen das Spike-Protein, <font color=\"green\">woraufhin</font> eine Immunantwort in Gang <font color=\"green\">gesetzt</font> wird, die zur Bildung von Antikörpern gegen dieses spezielle Virusprotein führt.\\n\\n</p>\\n<p>\\n\\n\"Behauptungen völlig unbegründet\"\\n\\n</p>\\n<p>\\n\\nDie Antikörper wirken <font color=\"red\">aber</font> angeblich <font color=\"red\">noch</font> gegen ein weiteres Protein, Syncytin-1, das an der Bildung der Plazenta in der Gebärmutter beteiligt <font color=\"red\">und</font> <font color=\"red\">für</font> eine erfolgreiche Schwangerschaft unerlässlich ist. Grund <font color=\"red\">für</font> den Antikörper-Angriff sei die strukturelle Ähnlichkeit von Spike <font color=\"red\">und</font> Syncytin-1, behaupten die Vertreter der Unfruchtbarkeitstheorie.\\n\\nDas Spike-Protein des Coronavirus besteht aus 1273 Aminosäuren, Syncytin-1 aus 538. Forschende fanden <font color=\"red\">nur</font> eine Sequenz aus fünf Aminosäuren, in der sich die beiden Proteine ähneln. Identisch ist <font color=\"red\">aber</font> <font color=\"red\">auch</font> diese Sequenz nicht. Das war’s <font color=\"red\">dann</font> <font color=\"red\">auch</font> schon mit der Ähnlichkeit. \\n\\n</p>\\n<p>\\n\\nCorona-Impfungen <font color=\"red\">für</font> Schwangere\\n\\n</p>\\n<p>\\n\\nTräfe die Annahme zu, <font color=\"red\">dass</font> die <font color=\"red\">durch</font> den Impfstoff hervorgerufene Immunantwort unfruchtbar machen könnte, \"müsste <font color=\"red\">auch</font> <font color=\"red\">oder</font> erst recht eine COVID-19-Erkrankung zu einer Infertilität führen\", schreibt Udo Markert, Leiter des Plazenta-Labors am Universitätsklinikum Jena <font color=\"red\">und</font> Präsident der European Society for Reproductive Immunology zusammen mit seinem Kollegen Ekkehard Schleußner, Direktor der Geburtsklinik am Universitätsklinikum Jena <font color=\"red\">und</font> Vizepräsident der Deutschen Gesellschaft <font color=\"red\">für</font> Perinatale Medizin in einer Stellungnahme. \"Aus Sicht der Plazenta-Forschung <font color=\"red\">und</font> Reproduktionsmedizin sind <font color=\"red\">daher</font> diese <font color=\"green\">inzwischen</font> weit verbreiteten Behauptungen völlig unbegründet!\", so die Mediziner weiter <font color=\"red\">und</font> empfehlen Frauen, sich impfen zu lassen.\\n\\n</p>\\n<p>\\n\\nDie Angst des Mannes\\n\\n</p>\\n<p>\\n\\n <font color=\"red\">Doch</font> nicht <font color=\"red\">nur</font> Frauen sind <font color=\"red\">durch</font> unbelegte Behauptungen <font color=\"red\">und</font> falsche Aussagen verunsichert. <font color=\"red\">Auch</font> Nachrichten über negative Auswirkungen der Impfungen auf die männliche Fortpflanzungsfähigkeit verbreiten sich auf Social Media.\\n\\nEine Studie aus den USA weist <font color=\"green\">allerdings</font> in eine andere Richtung: Die Forschenden untersuchten das Sperma von 45 Männern vor <font color=\"red\">und</font> nach der Impfung mit einem mRNA-Impfstoff <font color=\"red\">und</font> konnten keinen negativen Einfluss der Impfung auf die Fortpflanzungsfähigkeit der Männer feststellen. \\n\\n\"Wir konnten bei keinem der untersuchten Männer feststellen, <font color=\"red\">dass</font> die Impfung irgendeine Auswirkung auf die Spermien gehabt hat\", sagt Daniel Nassau, Urologe <font color=\"red\">und</font> einer der Autoren der Studie. Er ist sicher, <font color=\"red\">dass</font> eine größere Probandenzahl an diesem Ergebnis nichts geändert hätte. \\n\\n <font color=\"red\">Gleichzeitig</font> verweist Ranjith Ramasamy, Professor <font color=\"red\">für</font> Urologie an der University of Miami, der gemeinsam mit Nassau an der Studie beteiligt war, in einem Artikel in \"The Conversation\" auf die Gefahr <font color=\"red\">durch</font> eine COVID-Infektion.\\n\\n</p>\\n<p>\\n\\nInfektion gefährlicher <font color=\"red\">als</font> Impfung\\n\\n</p>\\n<p>\\n\\nDie COVID-Impfungen seien weder Ursache <font color=\"red\">für</font> Erektionsstörungen <font color=\"red\">noch</font> Unfruchtbarkeit, schreibt Ramasamy. \"Die Wahrheit ist: SARS-CoV-2, das Virus, das COVID-19 verursacht, stellt ein Risiko <font color=\"red\">für</font> beide Erkrankungen dar.\"\\n\\nDer Urologe <font color=\"red\">und</font> sein Team konnten das Virus in einer früheren Studie im Hodengewebe von an COVID-19 Verstorbenen nachweisen. Laut Ramasamy könne das Virus nicht <font color=\"red\">nur</font> die Spermienproduktion <font color=\"red\">und</font> Fruchtbarkeit beeinträchtigen, <font color=\"red\">sondern</font> <font color=\"red\">auch</font> zu Erektionsstörungen führen.\\n\\nVöllig überraschend seien diese Ergebnisse <font color=\"green\">allerdings</font> nicht, schreibt Ramasamy. <font color=\"red\">Auch</font> andere Viren, <font color=\"red\">wie</font> Mumps <font color=\"red\">oder</font> das Zika-Virus könnten Entzündungen im Hoden verursachen <font color=\"red\">und</font> die Fruchtbarkeit beeinträchtigen. \"Das Risiko von Unfruchtbarkeit <font color=\"red\">und</font> Erektionsstörungen steigt, je schwerer die Infektion verläuft\", sagt  Nassau. \"Ich kann <font color=\"red\">nur</font> jedem Mann dringend raten, sich impfen zu lassen.\" \\n</body>\\n</html>'"
      ]
     },
     "execution_count": 278,
     "metadata": {},
     "output_type": "execute_result"
    }
   ],
   "source": [
    "html_string\n",
    "conn_dict"
   ]
  },
  {
   "cell_type": "code",
   "execution_count": 250,
   "metadata": {},
   "outputs": [],
   "source": [
    "s = \"hält sich aber hartnäckig aber.\""
   ]
  },
  {
   "cell_type": "code",
   "execution_count": 251,
   "metadata": {},
   "outputs": [
    {
     "data": {
      "text/plain": [
       "'hält sich <font color=\\\\\"green\\\\\">aber</font> hartnäckig <font color=\\\\\"green\\\\\">aber</font> '"
      ]
     },
     "execution_count": 251,
     "metadata": {},
     "output_type": "execute_result"
    }
   ],
   "source": [
    "re.sub('(^| )(aber|aber|Aber)( |\\.|\\?|!|$)', r' <font color=\\\"green\\\">\\g<2></font> ', s)"
   ]
  },
  {
   "cell_type": "code",
   "execution_count": 224,
   "metadata": {},
   "outputs": [],
   "source": [
    "re.search('[\\s^](aber|aber|Aber)[\\\\s\\\\.?!\\\\$]', s)"
   ]
  },
  {
   "cell_type": "code",
   "execution_count": null,
   "metadata": {},
   "outputs": [],
   "source": []
  }
 ],
 "metadata": {
  "kernelspec": {
   "display_name": "Python 3",
   "language": "python",
   "name": "python3"
  },
  "language_info": {
   "codemirror_mode": {
    "name": "ipython",
    "version": 3
   },
   "file_extension": ".py",
   "mimetype": "text/x-python",
   "name": "python",
   "nbconvert_exporter": "python",
   "pygments_lexer": "ipython3",
   "version": "3.7.4"
  }
 },
 "nbformat": 4,
 "nbformat_minor": 4
}
